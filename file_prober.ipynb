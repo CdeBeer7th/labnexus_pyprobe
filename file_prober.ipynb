{
 "cells": [
  {
   "cell_type": "code",
   "execution_count": null,
   "metadata": {},
   "outputs": [],
   "source": [
    "import os\n",
    "from pathlib import Path\n",
    "import requests\n",
    "from datetime import datetime\n",
    "\n",
    "\n",
    "def FileWatcher(dir_path, server_url):\n",
    "   # Set the headers for the PUT request (if needed)\n",
    "   # headers = {'Content-Type': 'application/octet-stream'}\n",
    "\n",
    "   # Keep track of the last processed file\n",
    "   last_processed_files = []\n",
    "      #dir_path = Path(dir_path)\n",
    "   \n",
    "   print('Checking for new files in directory:', dir_path)\n",
    "   while True:\n",
    "      # Get a list of all files in the directory\n",
    "      files = os.listdir(dir_path)\n",
    "      print('Files in directory:\\n', files)\n",
    "      # Sort files by modification time (newest first)\n",
    "      files.sort(key=lambda x: os.path.getmtime(os.path.join(dir_path, x)), reverse=True)\n",
    "\n",
    "      # Check for new files\n",
    "      for file_name in files:\n",
    "            file_path = os.path.join(dir_path, file_name)\n",
    "\n",
    "         # Skip the last processed file and directories\n",
    "            if file_name in last_processed_files or os.path.isdir(file_path):\n",
    "                  continue\n",
    "\n",
    "            try:\n",
    "               # Open the file in binary mode\n",
    "               print('Found new file', file_name)\n",
    "               print(file_path)\n",
    "               with open(file_path, 'rb') as file:\n",
    "                     files = {'file': file}\n",
    "                     # Send a PUT request to the server with the file data\n",
    "                     response = requests.post(server_url, files=files)\n",
    "\n",
    "               # Check if the request was successful\n",
    "               if response.status_code == 200:\n",
    "                     print(f'File {file_name} uploaded successfully at {datetime.now()}')\n",
    "                     last_processed_files.append(file_name)\n",
    "               else:\n",
    "                     print(f'Error uploading file {file_name}: {response.status_code} - {response.text}')\n",
    "                     print(response.__dict__)\n",
    "\n",
    "            except Exception as e:\n",
    "               print(f'Error processing file {file_name}: {e}')\n",
    "\n",
    "         # Exit the loop after processing the newest file\n",
    "            break\n",
    "\n",
    "      # Wait for a specified time before checking again\n",
    "      # You can adjust the sleep time based on your requirements\n",
    "      import time\n",
    "      time.sleep(5)  # Wait for 1 minute\n",
    "      \n"
   ]
  },
  {
   "cell_type": "code",
   "execution_count": null,
   "metadata": {},
   "outputs": [],
   "source": [
    "FileWatcher(dir_path = '/home/cdb/Workspaces/minimal_template/labnexus_server/local_scripts/testfiles', server_url = 'http://127.0.0.1:8000/files/upload/raw')"
   ]
  }
 ],
 "metadata": {
  "kernelspec": {
   "display_name": "Python 3",
   "language": "python",
   "name": "python3"
  },
  "language_info": {
   "codemirror_mode": {
    "name": "ipython",
    "version": 3
   },
   "file_extension": ".py",
   "mimetype": "text/x-python",
   "name": "python",
   "nbconvert_exporter": "python",
   "pygments_lexer": "ipython3",
   "version": "3.11.5"
  }
 },
 "nbformat": 4,
 "nbformat_minor": 2
}
